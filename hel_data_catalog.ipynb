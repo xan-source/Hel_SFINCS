{
 "cells": [
  {
   "cell_type": "code",
   "execution_count": null,
   "outputs": [],
   "source": [],
   "metadata": {
    "collapsed": false,
    "ExecuteTime": {
     "end_time": "2023-06-16T15:55:52.661706300Z",
     "start_time": "2023-06-16T15:55:52.658117200Z"
    }
   }
  },
  {
   "cell_type": "code",
   "execution_count": 1,
   "outputs": [
    {
     "name": "stdout",
     "output_type": "stream",
     "text": [
      "2023-06-16 17:55:57,146 - prepare data catalog - log - INFO - HydroMT version: 0.7.1\n"
     ]
    }
   ],
   "source": [
    "# import python libraries\n",
    "import os\n",
    "from pprint import pprint\n",
    "import matplotlib.pyplot as plt\n",
    "import xarray as xr\n",
    "import geopandas as gpd\n",
    "\n",
    "# import hydromt and setup logging\n",
    "import hydromt\n",
    "from hydromt.log import setuplog\n",
    "\n",
    "logger = setuplog(\"prepare data catalog\", log_level=10)"
   ],
   "metadata": {
    "collapsed": false,
    "ExecuteTime": {
     "end_time": "2023-06-16T15:55:57.165244700Z",
     "start_time": "2023-06-16T15:55:52.661706300Z"
    }
   }
  },
  {
   "cell_type": "code",
   "execution_count": 2,
   "outputs": [
    {
     "name": "stdout",
     "output_type": "stream",
     "text": [
      "C:\\Users\\xfsmi\\PycharmProjects\\pythonProject\\SFINCS\\xan_catalog\\helensville_data\n"
     ]
    }
   ],
   "source": [
    "k=%pwd\n",
    "root = os.path.join(k, \"xan_catalog\\\\helensville_data\")\n",
    "print(root)"
   ],
   "metadata": {
    "collapsed": false,
    "ExecuteTime": {
     "end_time": "2023-06-16T15:55:57.212142300Z",
     "start_time": "2023-06-16T15:55:57.165244700Z"
    }
   }
  },
  {
   "cell_type": "markdown",
   "source": [
    "## DEM elevation dataset"
   ],
   "metadata": {
    "collapsed": false
   }
  },
  {
   "cell_type": "code",
   "execution_count": 3,
   "outputs": [
    {
     "name": "stdout",
     "output_type": "stream",
     "text": [
      "CRS: GEOGCS[\"WGS 84\",DATUM[\"WGS_1984\",SPHEROID[\"WGS 84\",6378137,298.257223563,AUTHORITY[\"EPSG\",\"7030\"]],AUTHORITY[\"EPSG\",\"6326\"]],PRIMEM[\"Greenwich\",0,AUTHORITY[\"EPSG\",\"8901\"]],UNIT[\"degree\",0.0174532925199433,AUTHORITY[\"EPSG\",\"9122\"]],AXIS[\"Latitude\",NORTH],AXIS[\"Longitude\",EAST],AUTHORITY[\"EPSG\",\"4326\"]]\n"
     ]
    }
   ],
   "source": [
    "da = xr.open_dataarray(os.path.join(root, 'elevtn4326.tif'))\n",
    "#pprint(da)\n",
    "print(f\"CRS: {da.raster.crs}\")\n",
    "# da.plot()"
   ],
   "metadata": {
    "collapsed": false,
    "ExecuteTime": {
     "end_time": "2023-06-16T15:55:57.288825200Z",
     "start_time": "2023-06-16T15:55:57.181031600Z"
    }
   }
  },
  {
   "cell_type": "code",
   "execution_count": 4,
   "outputs": [],
   "source": [
    "yml_str = f\"\"\"\n",
    "meta:\n",
    "  root: {root}\n",
    "\n",
    "elevtn:\n",
    "    path: elevtn4326.tif\n",
    "    data_type: RasterDataset\n",
    "    driver: raster\n",
    "    crs: 4326\n",
    "    meta:\n",
    "        category: elevation\n",
    "\"\"\"\n",
    "data_lib = \"xan_catalog/catalog/elevtn.yml\"\n",
    "with open(data_lib, mode=\"w\") as f:\n",
    "    f.write(yml_str)"
   ],
   "metadata": {
    "collapsed": false,
    "ExecuteTime": {
     "end_time": "2023-06-16T15:55:57.301781500Z",
     "start_time": "2023-06-16T15:55:57.252831600Z"
    }
   }
  },
  {
   "cell_type": "code",
   "execution_count": 5,
   "outputs": [
    {
     "name": "stdout",
     "output_type": "stream",
     "text": [
      "2023-06-16 17:55:57,257 - prepare data catalog - data_catalog - INFO - Parsing data catalog from xan_catalog/catalog/elevtn.yml\n",
      "2023-06-16 17:55:57,263 - prepare data catalog - data_catalog - INFO - DataCatalog: Getting elevtn RasterDataset raster data from C:\\Users\\xfsmi\\PycharmProjects\\pythonProject\\SFINCS\\xan_catalog\\helensville_data\\elevtn4326.tif\n"
     ]
    }
   ],
   "source": [
    "#This is to check whether hydromt is reading the data correctly\n",
    "\n",
    "data_catalog = hydromt.DataCatalog(data_libs=[data_lib], logger=logger)\n",
    "da = data_catalog.get_rasterdataset(\"elevtn\")\n",
    "\n"
   ],
   "metadata": {
    "collapsed": false,
    "ExecuteTime": {
     "end_time": "2023-06-16T15:55:57.357080600Z",
     "start_time": "2023-06-16T15:55:57.262595800Z"
    }
   }
  },
  {
   "cell_type": "markdown",
   "source": [
    "## Bathymetry dataset"
   ],
   "metadata": {
    "collapsed": false
   }
  },
  {
   "cell_type": "code",
   "execution_count": 6,
   "outputs": [
    {
     "name": "stdout",
     "output_type": "stream",
     "text": [
      "CRS: PROJCS[\"WGS 84 / Mercator 41\",GEOGCS[\"WGS 84\",DATUM[\"WGS_1984\",SPHEROID[\"WGS 84\",6378137,298.257223563,AUTHORITY[\"EPSG\",\"7030\"]],AUTHORITY[\"EPSG\",\"6326\"]],PRIMEM[\"Greenwich\",0],UNIT[\"degree\",0.0174532925199433,AUTHORITY[\"EPSG\",\"9122\"]],AUTHORITY[\"EPSG\",\"4326\"]],PROJECTION[\"Mercator_2SP\"],PARAMETER[\"standard_parallel_1\",-41],PARAMETER[\"central_meridian\",100],PARAMETER[\"false_easting\",0],PARAMETER[\"false_northing\",0],UNIT[\"metre\",1,AUTHORITY[\"EPSG\",\"9001\"]],AXIS[\"Easting\",EAST],AXIS[\"Northing\",NORTH],AUTHORITY[\"EPSG\",\"3994\"]]\n"
     ]
    }
   ],
   "source": [
    "da = xr.open_dataarray(os.path.join(root, 'nzbathy_2016/nzbathy_2016.tif'))\n",
    "#pprint(da)\n",
    "print(f\"CRS: {da.raster.crs}\")\n"
   ],
   "metadata": {
    "collapsed": false,
    "ExecuteTime": {
     "end_time": "2023-06-16T15:55:57.373097700Z",
     "start_time": "2023-06-16T15:55:57.326650100Z"
    }
   }
  },
  {
   "cell_type": "code",
   "execution_count": 7,
   "outputs": [],
   "source": [
    "yml_str = f\"\"\"\n",
    "meta:\n",
    "  root: {root}\n",
    "\n",
    "bathymetry:\n",
    "    path: nzbathy_2016/nzbathy_2016.tif\n",
    "    crs: 3994\n",
    "    data_type: RasterDataset\n",
    "    driver: raster\n",
    "    meta:\n",
    "        source_url: https://data-niwa.opendata.arcgis.com/datasets/NIWA::nz-bathymetry-250m-imagery-raster-layer/explore?location=-36.453610%2C175.387227%2C8.55\n",
    "        category: bathymetry\n",
    "\n",
    "\"\"\"\n",
    "data_lib = \"xan_catalog/catalog/bathymetry.yml\"\n",
    "with open(data_lib, mode=\"w\") as f:\n",
    "    f.write(yml_str)\n",
    "\n"
   ],
   "metadata": {
    "collapsed": false,
    "ExecuteTime": {
     "end_time": "2023-06-16T15:55:57.436222400Z",
     "start_time": "2023-06-16T15:55:57.373097700Z"
    }
   }
  },
  {
   "cell_type": "code",
   "execution_count": 7,
   "outputs": [],
   "source": [],
   "metadata": {
    "collapsed": false,
    "ExecuteTime": {
     "end_time": "2023-06-16T15:55:57.444162900Z",
     "start_time": "2023-06-16T15:55:57.388724300Z"
    }
   }
  },
  {
   "cell_type": "code",
   "execution_count": 8,
   "outputs": [
    {
     "name": "stdout",
     "output_type": "stream",
     "text": [
      "2023-06-16 17:55:57,404 - prepare data catalog - data_catalog - INFO - Parsing data catalog from xan_catalog/catalog/bathymetry.yml\n",
      "2023-06-16 17:55:57,410 - prepare data catalog - data_catalog - INFO - DataCatalog: Getting bathymetry RasterDataset raster data from C:\\Users\\xfsmi\\PycharmProjects\\pythonProject\\SFINCS\\xan_catalog\\helensville_data\\nzbathy_2016\\nzbathy_2016.tif\n"
     ]
    }
   ],
   "source": [
    "data_catalog.from_yml(data_lib)  # add a yaml file to the data catalog\n",
    "da = data_catalog.get_rasterdataset(\"bathymetry\")"
   ],
   "metadata": {
    "collapsed": false,
    "ExecuteTime": {
     "end_time": "2023-06-16T15:55:57.499793400Z",
     "start_time": "2023-06-16T15:55:57.404348700Z"
    }
   }
  },
  {
   "cell_type": "markdown",
   "source": [
    "## Extent"
   ],
   "metadata": {
    "collapsed": false
   }
  },
  {
   "cell_type": "code",
   "execution_count": 9,
   "outputs": [],
   "source": [
    "yml_str = f\"\"\"\n",
    "meta:\n",
    "  root: {root}\n",
    "\n",
    "extent:\n",
    "    path: gswo/recurrence_170E_30Sv1_4_2021.tif\n",
    "    data_type: RasterDataset\n",
    "    driver: raster\n",
    "    crs: 4326\n",
    "    meta:\n",
    "        category: water extent\n",
    "    nodata: 255\n",
    "\"\"\"\n",
    "data_lib = \"xan_catalog/catalog/extent.yml\"\n",
    "with open(data_lib, mode=\"w\") as f:\n",
    "    f.write(yml_str)\n"
   ],
   "metadata": {
    "collapsed": false,
    "ExecuteTime": {
     "end_time": "2023-06-16T15:55:57.501357800Z",
     "start_time": "2023-06-16T15:55:57.491488500Z"
    }
   }
  },
  {
   "cell_type": "code",
   "execution_count": 10,
   "outputs": [
    {
     "name": "stdout",
     "output_type": "stream",
     "text": [
      "2023-06-16 17:55:57,501 - prepare data catalog - data_catalog - INFO - Parsing data catalog from xan_catalog/catalog/extent.yml\n",
      "2023-06-16 17:55:57,501 - prepare data catalog - data_catalog - INFO - DataCatalog: Getting extent RasterDataset raster data from C:\\Users\\xfsmi\\PycharmProjects\\pythonProject\\SFINCS\\xan_catalog\\helensville_data\\gswo\\recurrence_170E_30Sv1_4_2021.tif\n"
     ]
    }
   ],
   "source": [
    "data_catalog.from_yml(data_lib)  # add a yaml file to the data catalog\n",
    "da = data_catalog.get_rasterdataset(\"extent\")\n"
   ],
   "metadata": {
    "collapsed": false,
    "ExecuteTime": {
     "end_time": "2023-06-16T15:55:57.563990Z",
     "start_time": "2023-06-16T15:55:57.501357800Z"
    }
   }
  },
  {
   "cell_type": "code",
   "execution_count": 10,
   "outputs": [],
   "source": [],
   "metadata": {
    "collapsed": false,
    "ExecuteTime": {
     "end_time": "2023-06-16T15:55:57.563990Z",
     "start_time": "2023-06-16T15:55:57.547835500Z"
    }
   }
  },
  {
   "cell_type": "markdown",
   "source": [
    "## Rivers dataset"
   ],
   "metadata": {
    "collapsed": false
   }
  },
  {
   "cell_type": "code",
   "execution_count": 11,
   "outputs": [
    {
     "name": "stdout",
     "output_type": "stream",
     "text": [
      "      COMID  order        area       Sin       Slp      Elev             K  \\\n",
      "0  57000001    1.0   33.603397  1.281624  0.001270  1.325000  1.000000e-15   \n",
      "1  57000002    1.0   54.408070  1.621324  0.001111  4.025225  3.160000e-13   \n",
      "2  57000006    2.0   99.808836  1.188306  0.002533  1.800000  3.020000e-11   \n",
      "3  57000007    2.0  358.066302  1.393589  0.000165  0.000000  3.020000e-11   \n",
      "4  57000008    2.0  131.115554  1.494304  0.001124  0.000000  1.000000e-15   \n",
      "\n",
      "      P        AI       LAI  ...        SLT  Urb        WTD        HW  DOR  \\\n",
      "0  0.19  1.138070  2.600169  ...  24.843750  0.0        NaN  0.027661  0.0   \n",
      "1  0.09  1.137850  2.681737  ...  25.071429  0.0        NaN  0.020909  0.0   \n",
      "2  0.00       NaN  0.000000  ...  28.000000  0.0        NaN  0.019383  0.0   \n",
      "3  0.00  1.128078  3.504630  ...  27.454545  0.0  15.419458  0.042687  0.0   \n",
      "4  0.19  1.285537  3.767018  ...  26.827586  0.0  29.506873  0.021679  0.0   \n",
      "\n",
      "      QMEAN         Q2    width_m  width_DHG  \\\n",
      "0  0.532857   5.693506  136.09315  17.179970   \n",
      "1  0.605515   5.473129  104.71898  16.844198   \n",
      "2  1.393823  12.360871  134.10524  25.313782   \n",
      "3  7.398196  57.742682   69.81079  54.711796   \n",
      "4  2.641605  21.649881   96.36328  33.501191   \n",
      "\n",
      "                                            geometry  \n",
      "0  LINESTRING (172.87417 -34.54250, 172.87333 -34...  \n",
      "1  LINESTRING (172.88917 -34.52000, 172.88833 -34...  \n",
      "2  LINESTRING (173.42750 -34.98417, 173.42667 -34...  \n",
      "3  LINESTRING (173.24083 -35.00000, 173.24083 -35...  \n",
      "4  LINESTRING (173.47083 -34.99500, 173.47000 -34...  \n",
      "\n",
      "[5 rows x 22 columns]\n",
      "Variables: Index(['COMID', 'order', 'area', 'Sin', 'Slp', 'Elev', 'K', 'P', 'AI', 'LAI',\n",
      "       'SND', 'CLY', 'SLT', 'Urb', 'WTD', 'HW', 'DOR', 'QMEAN', 'Q2',\n",
      "       'width_m', 'width_DHG', 'geometry'],\n",
      "      dtype='object')\n",
      "CRS: EPSG:4326\n"
     ]
    }
   ],
   "source": [
    "gdf = gpd.read_file(os.path.join(root, \"rivers_shapefile/rivers_NZ/riversNZ.shp\"))\n",
    "pprint(gdf.head())\n",
    "print(f\"Variables: {gdf.columns}\")\n",
    "print(f\"CRS: {gdf.crs}\")\n",
    "# gdf.plot()"
   ],
   "metadata": {
    "collapsed": false,
    "ExecuteTime": {
     "end_time": "2023-06-16T15:55:59.231455500Z",
     "start_time": "2023-06-16T15:55:57.563990Z"
    }
   }
  },
  {
   "cell_type": "code",
   "execution_count": 12,
   "outputs": [],
   "source": [
    "yml_str = f\"\"\"\n",
    "meta:\n",
    "  root: {root}\n",
    "\n",
    "rivers_lin:\n",
    "    path: rivers_shapefile/rivers_NZ/riversNZ.shp\n",
    "    data_type: GeoDataFrame\n",
    "    driver: vector\n",
    "    crs: 4326\n",
    "    meta:\n",
    "        source_url: https://zenodo.org/record/3552776#.YVbOrppByUk\n",
    "        category: hydrography\n",
    "\n",
    "\"\"\"\n",
    "data_lib = \"xan_catalog/catalog/rivers_lin.yml\"\n",
    "with open(data_lib, mode=\"w\") as f:\n",
    "    f.write(yml_str)\n"
   ],
   "metadata": {
    "collapsed": false,
    "ExecuteTime": {
     "end_time": "2023-06-16T15:55:59.278773800Z",
     "start_time": "2023-06-16T15:55:59.231455500Z"
    }
   }
  },
  {
   "cell_type": "code",
   "execution_count": 13,
   "outputs": [
    {
     "name": "stdout",
     "output_type": "stream",
     "text": [
      "2023-06-16 17:55:59,249 - prepare data catalog - data_catalog - INFO - Parsing data catalog from xan_catalog/catalog/rivers_lin.yml\n",
      "dict_keys(['elevtn', 'bathymetry', 'extent', 'rivers_lin'])\n",
      "2023-06-16 17:55:59,249 - prepare data catalog - data_catalog - INFO - DataCatalog: Getting rivers_lin GeoDataFrame vector data from C:\\Users\\xfsmi\\PycharmProjects\\pythonProject\\SFINCS\\xan_catalog\\helensville_data\\rivers_shapefile\\rivers_NZ\\riversNZ.shp\n",
      "2023-06-16 17:55:59,249 - prepare data catalog - geodataframe - INFO - GeoDataFrame: Read vector data.\n"
     ]
    }
   ],
   "source": [
    "data_catalog.from_yml(data_lib)  # add a yaml file to the data catalog\n",
    "print(data_catalog.sources.keys())\n",
    "gdf = data_catalog.get_geodataframe(\"rivers_lin\")\n"
   ],
   "metadata": {
    "collapsed": false,
    "ExecuteTime": {
     "end_time": "2023-06-16T15:56:00.541655300Z",
     "start_time": "2023-06-16T15:55:59.249614300Z"
    }
   }
  },
  {
   "cell_type": "markdown",
   "source": [
    "## precipitation"
   ],
   "metadata": {
    "collapsed": false
   }
  },
  {
   "cell_type": "code",
   "execution_count": 14,
   "outputs": [
    {
     "data": {
      "text/plain": "<xarray.DataArray 'longitude' (longitude: 61)>\narray([165.  , 165.25, 165.5 , 165.75, 166.  , 166.25, 166.5 , 166.75, 167.  ,\n       167.25, 167.5 , 167.75, 168.  , 168.25, 168.5 , 168.75, 169.  , 169.25,\n       169.5 , 169.75, 170.  , 170.25, 170.5 , 170.75, 171.  , 171.25, 171.5 ,\n       171.75, 172.  , 172.25, 172.5 , 172.75, 173.  , 173.25, 173.5 , 173.75,\n       174.  , 174.25, 174.5 , 174.75, 175.  , 175.25, 175.5 , 175.75, 176.  ,\n       176.25, 176.5 , 176.75, 177.  , 177.25, 177.5 , 177.75, 178.  , 178.25,\n       178.5 , 178.75, 179.  , 179.25, 179.5 , 179.75, 180.  ], dtype=float32)\nCoordinates:\n  * longitude  (longitude) float32 165.0 165.2 165.5 165.8 ... 179.5 179.8 180.0\nAttributes:\n    units:      degrees_east\n    long_name:  longitude",
      "text/html": "<div><svg style=\"position: absolute; width: 0; height: 0; overflow: hidden\">\n<defs>\n<symbol id=\"icon-database\" viewBox=\"0 0 32 32\">\n<path d=\"M16 0c-8.837 0-16 2.239-16 5v4c0 2.761 7.163 5 16 5s16-2.239 16-5v-4c0-2.761-7.163-5-16-5z\"></path>\n<path d=\"M16 17c-8.837 0-16-2.239-16-5v6c0 2.761 7.163 5 16 5s16-2.239 16-5v-6c0 2.761-7.163 5-16 5z\"></path>\n<path d=\"M16 26c-8.837 0-16-2.239-16-5v6c0 2.761 7.163 5 16 5s16-2.239 16-5v-6c0 2.761-7.163 5-16 5z\"></path>\n</symbol>\n<symbol id=\"icon-file-text2\" viewBox=\"0 0 32 32\">\n<path d=\"M28.681 7.159c-0.694-0.947-1.662-2.053-2.724-3.116s-2.169-2.030-3.116-2.724c-1.612-1.182-2.393-1.319-2.841-1.319h-15.5c-1.378 0-2.5 1.121-2.5 2.5v27c0 1.378 1.122 2.5 2.5 2.5h23c1.378 0 2.5-1.122 2.5-2.5v-19.5c0-0.448-0.137-1.23-1.319-2.841zM24.543 5.457c0.959 0.959 1.712 1.825 2.268 2.543h-4.811v-4.811c0.718 0.556 1.584 1.309 2.543 2.268zM28 29.5c0 0.271-0.229 0.5-0.5 0.5h-23c-0.271 0-0.5-0.229-0.5-0.5v-27c0-0.271 0.229-0.5 0.5-0.5 0 0 15.499-0 15.5 0v7c0 0.552 0.448 1 1 1h7v19.5z\"></path>\n<path d=\"M23 26h-14c-0.552 0-1-0.448-1-1s0.448-1 1-1h14c0.552 0 1 0.448 1 1s-0.448 1-1 1z\"></path>\n<path d=\"M23 22h-14c-0.552 0-1-0.448-1-1s0.448-1 1-1h14c0.552 0 1 0.448 1 1s-0.448 1-1 1z\"></path>\n<path d=\"M23 18h-14c-0.552 0-1-0.448-1-1s0.448-1 1-1h14c0.552 0 1 0.448 1 1s-0.448 1-1 1z\"></path>\n</symbol>\n</defs>\n</svg>\n<style>/* CSS stylesheet for displaying xarray objects in jupyterlab.\n *\n */\n\n:root {\n  --xr-font-color0: var(--jp-content-font-color0, rgba(0, 0, 0, 1));\n  --xr-font-color2: var(--jp-content-font-color2, rgba(0, 0, 0, 0.54));\n  --xr-font-color3: var(--jp-content-font-color3, rgba(0, 0, 0, 0.38));\n  --xr-border-color: var(--jp-border-color2, #e0e0e0);\n  --xr-disabled-color: var(--jp-layout-color3, #bdbdbd);\n  --xr-background-color: var(--jp-layout-color0, white);\n  --xr-background-color-row-even: var(--jp-layout-color1, white);\n  --xr-background-color-row-odd: var(--jp-layout-color2, #eeeeee);\n}\n\nhtml[theme=dark],\nbody[data-theme=dark],\nbody.vscode-dark {\n  --xr-font-color0: rgba(255, 255, 255, 1);\n  --xr-font-color2: rgba(255, 255, 255, 0.54);\n  --xr-font-color3: rgba(255, 255, 255, 0.38);\n  --xr-border-color: #1F1F1F;\n  --xr-disabled-color: #515151;\n  --xr-background-color: #111111;\n  --xr-background-color-row-even: #111111;\n  --xr-background-color-row-odd: #313131;\n}\n\n.xr-wrap {\n  display: block !important;\n  min-width: 300px;\n  max-width: 700px;\n}\n\n.xr-text-repr-fallback {\n  /* fallback to plain text repr when CSS is not injected (untrusted notebook) */\n  display: none;\n}\n\n.xr-header {\n  padding-top: 6px;\n  padding-bottom: 6px;\n  margin-bottom: 4px;\n  border-bottom: solid 1px var(--xr-border-color);\n}\n\n.xr-header > div,\n.xr-header > ul {\n  display: inline;\n  margin-top: 0;\n  margin-bottom: 0;\n}\n\n.xr-obj-type,\n.xr-array-name {\n  margin-left: 2px;\n  margin-right: 10px;\n}\n\n.xr-obj-type {\n  color: var(--xr-font-color2);\n}\n\n.xr-sections {\n  padding-left: 0 !important;\n  display: grid;\n  grid-template-columns: 150px auto auto 1fr 20px 20px;\n}\n\n.xr-section-item {\n  display: contents;\n}\n\n.xr-section-item input {\n  display: none;\n}\n\n.xr-section-item input + label {\n  color: var(--xr-disabled-color);\n}\n\n.xr-section-item input:enabled + label {\n  cursor: pointer;\n  color: var(--xr-font-color2);\n}\n\n.xr-section-item input:enabled + label:hover {\n  color: var(--xr-font-color0);\n}\n\n.xr-section-summary {\n  grid-column: 1;\n  color: var(--xr-font-color2);\n  font-weight: 500;\n}\n\n.xr-section-summary > span {\n  display: inline-block;\n  padding-left: 0.5em;\n}\n\n.xr-section-summary-in:disabled + label {\n  color: var(--xr-font-color2);\n}\n\n.xr-section-summary-in + label:before {\n  display: inline-block;\n  content: '►';\n  font-size: 11px;\n  width: 15px;\n  text-align: center;\n}\n\n.xr-section-summary-in:disabled + label:before {\n  color: var(--xr-disabled-color);\n}\n\n.xr-section-summary-in:checked + label:before {\n  content: '▼';\n}\n\n.xr-section-summary-in:checked + label > span {\n  display: none;\n}\n\n.xr-section-summary,\n.xr-section-inline-details {\n  padding-top: 4px;\n  padding-bottom: 4px;\n}\n\n.xr-section-inline-details {\n  grid-column: 2 / -1;\n}\n\n.xr-section-details {\n  display: none;\n  grid-column: 1 / -1;\n  margin-bottom: 5px;\n}\n\n.xr-section-summary-in:checked ~ .xr-section-details {\n  display: contents;\n}\n\n.xr-array-wrap {\n  grid-column: 1 / -1;\n  display: grid;\n  grid-template-columns: 20px auto;\n}\n\n.xr-array-wrap > label {\n  grid-column: 1;\n  vertical-align: top;\n}\n\n.xr-preview {\n  color: var(--xr-font-color3);\n}\n\n.xr-array-preview,\n.xr-array-data {\n  padding: 0 5px !important;\n  grid-column: 2;\n}\n\n.xr-array-data,\n.xr-array-in:checked ~ .xr-array-preview {\n  display: none;\n}\n\n.xr-array-in:checked ~ .xr-array-data,\n.xr-array-preview {\n  display: inline-block;\n}\n\n.xr-dim-list {\n  display: inline-block !important;\n  list-style: none;\n  padding: 0 !important;\n  margin: 0;\n}\n\n.xr-dim-list li {\n  display: inline-block;\n  padding: 0;\n  margin: 0;\n}\n\n.xr-dim-list:before {\n  content: '(';\n}\n\n.xr-dim-list:after {\n  content: ')';\n}\n\n.xr-dim-list li:not(:last-child):after {\n  content: ',';\n  padding-right: 5px;\n}\n\n.xr-has-index {\n  font-weight: bold;\n}\n\n.xr-var-list,\n.xr-var-item {\n  display: contents;\n}\n\n.xr-var-item > div,\n.xr-var-item label,\n.xr-var-item > .xr-var-name span {\n  background-color: var(--xr-background-color-row-even);\n  margin-bottom: 0;\n}\n\n.xr-var-item > .xr-var-name:hover span {\n  padding-right: 5px;\n}\n\n.xr-var-list > li:nth-child(odd) > div,\n.xr-var-list > li:nth-child(odd) > label,\n.xr-var-list > li:nth-child(odd) > .xr-var-name span {\n  background-color: var(--xr-background-color-row-odd);\n}\n\n.xr-var-name {\n  grid-column: 1;\n}\n\n.xr-var-dims {\n  grid-column: 2;\n}\n\n.xr-var-dtype {\n  grid-column: 3;\n  text-align: right;\n  color: var(--xr-font-color2);\n}\n\n.xr-var-preview {\n  grid-column: 4;\n}\n\n.xr-index-preview {\n  grid-column: 2 / 5;\n  color: var(--xr-font-color2);\n}\n\n.xr-var-name,\n.xr-var-dims,\n.xr-var-dtype,\n.xr-preview,\n.xr-attrs dt {\n  white-space: nowrap;\n  overflow: hidden;\n  text-overflow: ellipsis;\n  padding-right: 10px;\n}\n\n.xr-var-name:hover,\n.xr-var-dims:hover,\n.xr-var-dtype:hover,\n.xr-attrs dt:hover {\n  overflow: visible;\n  width: auto;\n  z-index: 1;\n}\n\n.xr-var-attrs,\n.xr-var-data,\n.xr-index-data {\n  display: none;\n  background-color: var(--xr-background-color) !important;\n  padding-bottom: 5px !important;\n}\n\n.xr-var-attrs-in:checked ~ .xr-var-attrs,\n.xr-var-data-in:checked ~ .xr-var-data,\n.xr-index-data-in:checked ~ .xr-index-data {\n  display: block;\n}\n\n.xr-var-data > table {\n  float: right;\n}\n\n.xr-var-name span,\n.xr-var-data,\n.xr-index-name div,\n.xr-index-data,\n.xr-attrs {\n  padding-left: 25px !important;\n}\n\n.xr-attrs,\n.xr-var-attrs,\n.xr-var-data,\n.xr-index-data {\n  grid-column: 1 / -1;\n}\n\ndl.xr-attrs {\n  padding: 0;\n  margin: 0;\n  display: grid;\n  grid-template-columns: 125px auto;\n}\n\n.xr-attrs dt,\n.xr-attrs dd {\n  padding: 0;\n  margin: 0;\n  float: left;\n  padding-right: 10px;\n  width: auto;\n}\n\n.xr-attrs dt {\n  font-weight: normal;\n  grid-column: 1;\n}\n\n.xr-attrs dt:hover span {\n  display: inline-block;\n  background: var(--xr-background-color);\n  padding-right: 10px;\n}\n\n.xr-attrs dd {\n  grid-column: 2;\n  white-space: pre-wrap;\n  word-break: break-all;\n}\n\n.xr-icon-database,\n.xr-icon-file-text2,\n.xr-no-icon {\n  display: inline-block;\n  vertical-align: middle;\n  width: 1em;\n  height: 1.5em !important;\n  stroke-width: 0;\n  stroke: currentColor;\n  fill: currentColor;\n}\n</style><pre class='xr-text-repr-fallback'>&lt;xarray.DataArray &#x27;longitude&#x27; (longitude: 61)&gt;\narray([165.  , 165.25, 165.5 , 165.75, 166.  , 166.25, 166.5 , 166.75, 167.  ,\n       167.25, 167.5 , 167.75, 168.  , 168.25, 168.5 , 168.75, 169.  , 169.25,\n       169.5 , 169.75, 170.  , 170.25, 170.5 , 170.75, 171.  , 171.25, 171.5 ,\n       171.75, 172.  , 172.25, 172.5 , 172.75, 173.  , 173.25, 173.5 , 173.75,\n       174.  , 174.25, 174.5 , 174.75, 175.  , 175.25, 175.5 , 175.75, 176.  ,\n       176.25, 176.5 , 176.75, 177.  , 177.25, 177.5 , 177.75, 178.  , 178.25,\n       178.5 , 178.75, 179.  , 179.25, 179.5 , 179.75, 180.  ], dtype=float32)\nCoordinates:\n  * longitude  (longitude) float32 165.0 165.2 165.5 165.8 ... 179.5 179.8 180.0\nAttributes:\n    units:      degrees_east\n    long_name:  longitude</pre><div class='xr-wrap' style='display:none'><div class='xr-header'><div class='xr-obj-type'>xarray.DataArray</div><div class='xr-array-name'>'longitude'</div><ul class='xr-dim-list'><li><span class='xr-has-index'>longitude</span>: 61</li></ul></div><ul class='xr-sections'><li class='xr-section-item'><div class='xr-array-wrap'><input id='section-5e214338-d903-44b2-90c1-467345d8ad52' class='xr-array-in' type='checkbox' checked><label for='section-5e214338-d903-44b2-90c1-467345d8ad52' title='Show/hide data repr'><svg class='icon xr-icon-database'><use xlink:href='#icon-database'></use></svg></label><div class='xr-array-preview xr-preview'><span>165.0 165.2 165.5 165.8 166.0 166.2 ... 179.0 179.2 179.5 179.8 180.0</span></div><div class='xr-array-data'><pre>array([165.  , 165.25, 165.5 , 165.75, 166.  , 166.25, 166.5 , 166.75, 167.  ,\n       167.25, 167.5 , 167.75, 168.  , 168.25, 168.5 , 168.75, 169.  , 169.25,\n       169.5 , 169.75, 170.  , 170.25, 170.5 , 170.75, 171.  , 171.25, 171.5 ,\n       171.75, 172.  , 172.25, 172.5 , 172.75, 173.  , 173.25, 173.5 , 173.75,\n       174.  , 174.25, 174.5 , 174.75, 175.  , 175.25, 175.5 , 175.75, 176.  ,\n       176.25, 176.5 , 176.75, 177.  , 177.25, 177.5 , 177.75, 178.  , 178.25,\n       178.5 , 178.75, 179.  , 179.25, 179.5 , 179.75, 180.  ], dtype=float32)</pre></div></div></li><li class='xr-section-item'><input id='section-1ffbbbfe-8a88-42a8-81ce-8bb285e89bb5' class='xr-section-summary-in' type='checkbox'  checked><label for='section-1ffbbbfe-8a88-42a8-81ce-8bb285e89bb5' class='xr-section-summary' >Coordinates: <span>(1)</span></label><div class='xr-section-inline-details'></div><div class='xr-section-details'><ul class='xr-var-list'><li class='xr-var-item'><div class='xr-var-name'><span class='xr-has-index'>longitude</span></div><div class='xr-var-dims'>(longitude)</div><div class='xr-var-dtype'>float32</div><div class='xr-var-preview xr-preview'>165.0 165.2 165.5 ... 179.8 180.0</div><input id='attrs-2ff75f96-490c-45d5-8462-36c30d09e49a' class='xr-var-attrs-in' type='checkbox' ><label for='attrs-2ff75f96-490c-45d5-8462-36c30d09e49a' title='Show/Hide attributes'><svg class='icon xr-icon-file-text2'><use xlink:href='#icon-file-text2'></use></svg></label><input id='data-25aaf4da-8632-4b0b-9211-ac4889d8c7d7' class='xr-var-data-in' type='checkbox'><label for='data-25aaf4da-8632-4b0b-9211-ac4889d8c7d7' title='Show/Hide data repr'><svg class='icon xr-icon-database'><use xlink:href='#icon-database'></use></svg></label><div class='xr-var-attrs'><dl class='xr-attrs'><dt><span>units :</span></dt><dd>degrees_east</dd><dt><span>long_name :</span></dt><dd>longitude</dd></dl></div><div class='xr-var-data'><pre>array([165.  , 165.25, 165.5 , 165.75, 166.  , 166.25, 166.5 , 166.75, 167.  ,\n       167.25, 167.5 , 167.75, 168.  , 168.25, 168.5 , 168.75, 169.  , 169.25,\n       169.5 , 169.75, 170.  , 170.25, 170.5 , 170.75, 171.  , 171.25, 171.5 ,\n       171.75, 172.  , 172.25, 172.5 , 172.75, 173.  , 173.25, 173.5 , 173.75,\n       174.  , 174.25, 174.5 , 174.75, 175.  , 175.25, 175.5 , 175.75, 176.  ,\n       176.25, 176.5 , 176.75, 177.  , 177.25, 177.5 , 177.75, 178.  , 178.25,\n       178.5 , 178.75, 179.  , 179.25, 179.5 , 179.75, 180.  ], dtype=float32)</pre></div></li></ul></div></li><li class='xr-section-item'><input id='section-57e29797-468e-4d37-8c12-5b49014ca24a' class='xr-section-summary-in' type='checkbox'  ><label for='section-57e29797-468e-4d37-8c12-5b49014ca24a' class='xr-section-summary' >Indexes: <span>(1)</span></label><div class='xr-section-inline-details'></div><div class='xr-section-details'><ul class='xr-var-list'><li class='xr-var-item'><div class='xr-index-name'><div>longitude</div></div><div class='xr-index-preview'>PandasIndex</div><div></div><input id='index-3f1204e8-478a-423f-a3d7-446e8cc3ea5e' class='xr-index-data-in' type='checkbox'/><label for='index-3f1204e8-478a-423f-a3d7-446e8cc3ea5e' title='Show/Hide index repr'><svg class='icon xr-icon-database'><use xlink:href='#icon-database'></use></svg></label><div class='xr-index-data'><pre>PandasIndex(Index([ 165.0, 165.25,  165.5, 165.75,  166.0, 166.25,  166.5, 166.75,  167.0,\n       167.25,  167.5, 167.75,  168.0, 168.25,  168.5, 168.75,  169.0, 169.25,\n        169.5, 169.75,  170.0, 170.25,  170.5, 170.75,  171.0, 171.25,  171.5,\n       171.75,  172.0, 172.25,  172.5, 172.75,  173.0, 173.25,  173.5, 173.75,\n        174.0, 174.25,  174.5, 174.75,  175.0, 175.25,  175.5, 175.75,  176.0,\n       176.25,  176.5, 176.75,  177.0, 177.25,  177.5, 177.75,  178.0, 178.25,\n        178.5, 178.75,  179.0, 179.25,  179.5, 179.75,  180.0],\n      dtype=&#x27;float32&#x27;, name=&#x27;longitude&#x27;))</pre></div></li></ul></div></li><li class='xr-section-item'><input id='section-1d8c8daa-7943-47d6-94b0-93887e057c3f' class='xr-section-summary-in' type='checkbox'  checked><label for='section-1d8c8daa-7943-47d6-94b0-93887e057c3f' class='xr-section-summary' >Attributes: <span>(2)</span></label><div class='xr-section-inline-details'></div><div class='xr-section-details'><dl class='xr-attrs'><dt><span>units :</span></dt><dd>degrees_east</dd><dt><span>long_name :</span></dt><dd>longitude</dd></dl></div></li></ul></div></div>"
     },
     "execution_count": 14,
     "metadata": {},
     "output_type": "execute_result"
    }
   ],
   "source": [
    "ds = xr.open_dataset(os.path.join(root, \"rainfall_era5/era5_rainfall.nc\"))\n",
    "ds.longitude"
   ],
   "metadata": {
    "collapsed": false,
    "ExecuteTime": {
     "end_time": "2023-06-16T15:56:00.594114500Z",
     "start_time": "2023-06-16T15:56:00.536066Z"
    }
   }
  },
  {
   "cell_type": "code",
   "execution_count": 15,
   "outputs": [
    {
     "data": {
      "text/plain": "Text(0.5, 1.0, 'tp')"
     },
     "execution_count": 15,
     "metadata": {},
     "output_type": "execute_result"
    },
    {
     "data": {
      "text/plain": "<Figure size 1000x300 with 3 Axes>",
      "image/png": "[encoded data removed]"
     },
     "metadata": {},
     "output_type": "display_data"
    }
   ],
   "source": [
    "# Select first timestep\n",
    "ds1 = ds.sel(time=ds.time[0])\n",
    "ds1\n",
    "# Plot\n",
    "fig, axes = plt.subplots(nrows=1, ncols=2, figsize=(10, 3))\n",
    "ds1[\"tp\"].plot(ax=axes[0])\n",
    "axes[0].set_title(\"tp\")\n",
    "# ds1[\"temp\"].plot(ax=axes[1])\n",
    "# axes[1].set_title(\"temp\")\n",
    "# fig, axes = plt.subplots(nrows=1, ncols=2, figsize=(10, 3))\n",
    "# ds1[\"kin\"].plot(ax=axes[0])\n",
    "# axes[0].set_title(\"kin\")\n",
    "# ds1[\"press_msl\"].plot(ax=axes[1])\n",
    "# axes[1].set_title(\"press_msl\")\n"
   ],
   "metadata": {
    "collapsed": false,
    "ExecuteTime": {
     "end_time": "2023-06-16T15:56:01.052959600Z",
     "start_time": "2023-06-16T15:56:00.567785600Z"
    }
   }
  },
  {
   "cell_type": "code",
   "execution_count": 16,
   "outputs": [],
   "source": [
    "yml_str = f\"\"\"\n",
    "meta:\n",
    "  root: {root}\n",
    "\n",
    "era5:\n",
    "  crs: 4326\n",
    "  data_type: RasterDataset\n",
    "  driver: netcdf\n",
    "  meta:\n",
    "    category: meteo\n",
    "    history: Extracted from ERA5 daily data on pressure levels\n",
    "    source_url: https://cds.climate.copernicus.eu/cdsapp#!/dataset/reanalysis-era5-single-levels?tab=overview\n",
    "  path: rainfall_era5/era5_rainfall.nc\n",
    "  unit_mult:\n",
    "    precip: 1000\n",
    "\n",
    "\"\"\"\n",
    "data_lib = \"xan_catalog/catalog/era5.yml\"\n",
    "with open(data_lib, mode=\"w\") as f:\n",
    "    f.write(yml_str)\n"
   ],
   "metadata": {
    "collapsed": false,
    "ExecuteTime": {
     "end_time": "2023-06-16T15:56:01.093380200Z",
     "start_time": "2023-06-16T15:56:01.044454Z"
    }
   }
  },
  {
   "cell_type": "code",
   "execution_count": 17,
   "outputs": [
    {
     "name": "stdout",
     "output_type": "stream",
     "text": [
      "2023-06-16 17:56:01,060 - prepare data catalog - data_catalog - INFO - Parsing data catalog from xan_catalog/catalog/era5.yml\n",
      "dict_keys(['elevtn', 'bathymetry', 'extent', 'rivers_lin', 'era5'])\n",
      "2023-06-16 17:56:01,066 - prepare data catalog - data_catalog - INFO - DataCatalog: Getting era5 RasterDataset netcdf data from C:\\Users\\xfsmi\\PycharmProjects\\pythonProject\\SFINCS\\xan_catalog\\helensville_data\\rainfall_era5\\era5_rainfall.nc\n"
     ]
    },
    {
     "data": {
      "text/plain": "<xarray.DataArray 'tp' (time: 8760, latitude: 89, longitude: 61)>\ndask.array<open_dataset-tp, shape=(8760, 89, 61), dtype=float32, chunksize=(8760, 89, 61), chunktype=numpy.ndarray>\nCoordinates:\n  * longitude    (longitude) float32 165.0 165.2 165.5 ... 179.5 179.8 180.0\n  * latitude     (latitude) float32 -31.0 -31.25 -31.5 ... -52.5 -52.75 -53.0\n  * time         (time) datetime64[ns] 2022-01-01 ... 2022-12-31T23:00:00\n    spatial_ref  int32 0\nAttributes:\n    units:       m\n    long_name:   Total precipitation\n    category:    meteo\n    history:     Extracted from ERA5 daily data on pressure levels\n    source_url:  https://cds.climate.copernicus.eu/cdsapp#!/dataset/reanalysi...",
      "text/html": "<div><svg style=\"position: absolute; width: 0; height: 0; overflow: hidden\">\n<defs>\n<symbol id=\"icon-database\" viewBox=\"0 0 32 32\">\n<path d=\"M16 0c-8.837 0-16 2.239-16 5v4c0 2.761 7.163 5 16 5s16-2.239 16-5v-4c0-2.761-7.163-5-16-5z\"></path>\n<path d=\"M16 17c-8.837 0-16-2.239-16-5v6c0 2.761 7.163 5 16 5s16-2.239 16-5v-6c0 2.761-7.163 5-16 5z\"></path>\n<path d=\"M16 26c-8.837 0-16-2.239-16-5v6c0 2.761 7.163 5 16 5s16-2.239 16-5v-6c0 2.761-7.163 5-16 5z\"></path>\n</symbol>\n<symbol id=\"icon-file-text2\" viewBox=\"0 0 32 32\">\n<path d=\"M28.681 7.159c-0.694-0.947-1.662-2.053-2.724-3.116s-2.169-2.030-3.116-2.724c-1.612-1.182-2.393-1.319-2.841-1.319h-15.5c-1.378 0-2.5 1.121-2.5 2.5v27c0 1.378 1.122 2.5 2.5 2.5h23c1.378 0 2.5-1.122 2.5-2.5v-19.5c0-0.448-0.137-1.23-1.319-2.841zM24.543 5.457c0.959 0.959 1.712 1.825 2.268 2.543h-4.811v-4.811c0.718 0.556 1.584 1.309 2.543 2.268zM28 29.5c0 0.271-0.229 0.5-0.5 0.5h-23c-0.271 0-0.5-0.229-0.5-0.5v-27c0-0.271 0.229-0.5 0.5-0.5 0 0 15.499-0 15.5 0v7c0 0.552 0.448 1 1 1h7v19.5z\"></path>\n<path d=\"M23 26h-14c-0.552 0-1-0.448-1-1s0.448-1 1-1h14c0.552 0 1 0.448 1 1s-0.448 1-1 1z\"></path>\n<path d=\"M23 22h-14c-0.552 0-1-0.448-1-1s0.448-1 1-1h14c0.552 0 1 0.448 1 1s-0.448 1-1 1z\"></path>\n<path d=\"M23 18h-14c-0.552 0-1-0.448-1-1s0.448-1 1-1h14c0.552 0 1 0.448 1 1s-0.448 1-1 1z\"></path>\n</symbol>\n</defs>\n</svg>\n<style>/* CSS stylesheet for displaying xarray objects in jupyterlab.\n *\n */\n\n:root {\n  --xr-font-color0: var(--jp-content-font-color0, rgba(0, 0, 0, 1));\n  --xr-font-color2: var(--jp-content-font-color2, rgba(0, 0, 0, 0.54));\n  --xr-font-color3: var(--jp-content-font-color3, rgba(0, 0, 0, 0.38));\n  --xr-border-color: var(--jp-border-color2, #e0e0e0);\n  --xr-disabled-color: var(--jp-layout-color3, #bdbdbd);\n  --xr-background-color: var(--jp-layout-color0, white);\n  --xr-background-color-row-even: var(--jp-layout-color1, white);\n  --xr-background-color-row-odd: var(--jp-layout-color2, #eeeeee);\n}\n\nhtml[theme=dark],\nbody[data-theme=dark],\nbody.vscode-dark {\n  --xr-font-color0: rgba(255, 255, 255, 1);\n  --xr-font-color2: rgba(255, 255, 255, 0.54);\n  --xr-font-color3: rgba(255, 255, 255, 0.38);\n  --xr-border-color: #1F1F1F;\n  --xr-disabled-color: #515151;\n  --xr-background-color: #111111;\n  --xr-background-color-row-even: #111111;\n  --xr-background-color-row-odd: #313131;\n}\n\n.xr-wrap {\n  display: block !important;\n  min-width: 300px;\n  max-width: 700px;\n}\n\n.xr-text-repr-fallback {\n  /* fallback to plain text repr when CSS is not injected (untrusted notebook) */\n  display: none;\n}\n\n.xr-header {\n  padding-top: 6px;\n  padding-bottom: 6px;\n  margin-bottom: 4px;\n  border-bottom: solid 1px var(--xr-border-color);\n}\n\n.xr-header > div,\n.xr-header > ul {\n  display: inline;\n  margin-top: 0;\n  margin-bottom: 0;\n}\n\n.xr-obj-type,\n.xr-array-name {\n  margin-left: 2px;\n  margin-right: 10px;\n}\n\n.xr-obj-type {\n  color: var(--xr-font-color2);\n}\n\n.xr-sections {\n  padding-left: 0 !important;\n  display: grid;\n  grid-template-columns: 150px auto auto 1fr 20px 20px;\n}\n\n.xr-section-item {\n  display: contents;\n}\n\n.xr-section-item input {\n  display: none;\n}\n\n.xr-section-item input + label {\n  color: var(--xr-disabled-color);\n}\n\n.xr-section-item input:enabled + label {\n  cursor: pointer;\n  color: var(--xr-font-color2);\n}\n\n.xr-section-item input:enabled + label:hover {\n  color: var(--xr-font-color0);\n}\n\n.xr-section-summary {\n  grid-column: 1;\n  color: var(--xr-font-color2);\n  font-weight: 500;\n}\n\n.xr-section-summary > span {\n  display: inline-block;\n  padding-left: 0.5em;\n}\n\n.xr-section-summary-in:disabled + label {\n  color: var(--xr-font-color2);\n}\n\n.xr-section-summary-in + label:before {\n  display: inline-block;\n  content: '►';\n  font-size: 11px;\n  width: 15px;\n  text-align: center;\n}\n\n.xr-section-summary-in:disabled + label:before {\n  color: var(--xr-disabled-color);\n}\n\n.xr-section-summary-in:checked + label:before {\n  content: '▼';\n}\n\n.xr-section-summary-in:checked + label > span {\n  display: none;\n}\n\n.xr-section-summary,\n.xr-section-inline-details {\n  padding-top: 4px;\n  padding-bottom: 4px;\n}\n\n.xr-section-inline-details {\n  grid-column: 2 / -1;\n}\n\n.xr-section-details {\n  display: none;\n  grid-column: 1 / -1;\n  margin-bottom: 5px;\n}\n\n.xr-section-summary-in:checked ~ .xr-section-details {\n  display: contents;\n}\n\n.xr-array-wrap {\n  grid-column: 1 / -1;\n  display: grid;\n  grid-template-columns: 20px auto;\n}\n\n.xr-array-wrap > label {\n  grid-column: 1;\n  vertical-align: top;\n}\n\n.xr-preview {\n  color: var(--xr-font-color3);\n}\n\n.xr-array-preview,\n.xr-array-data {\n  padding: 0 5px !important;\n  grid-column: 2;\n}\n\n.xr-array-data,\n.xr-array-in:checked ~ .xr-array-preview {\n  display: none;\n}\n\n.xr-array-in:checked ~ .xr-array-data,\n.xr-array-preview {\n  display: inline-block;\n}\n\n.xr-dim-list {\n  display: inline-block !important;\n  list-style: none;\n  padding: 0 !important;\n  margin: 0;\n}\n\n.xr-dim-list li {\n  display: inline-block;\n  padding: 0;\n  margin: 0;\n}\n\n.xr-dim-list:before {\n  content: '(';\n}\n\n.xr-dim-list:after {\n  content: ')';\n}\n\n.xr-dim-list li:not(:last-child):after {\n  content: ',';\n  padding-right: 5px;\n}\n\n.xr-has-index {\n  font-weight: bold;\n}\n\n.xr-var-list,\n.xr-var-item {\n  display: contents;\n}\n\n.xr-var-item > div,\n.xr-var-item label,\n.xr-var-item > .xr-var-name span {\n  background-color: var(--xr-background-color-row-even);\n  margin-bottom: 0;\n}\n\n.xr-var-item > .xr-var-name:hover span {\n  padding-right: 5px;\n}\n\n.xr-var-list > li:nth-child(odd) > div,\n.xr-var-list > li:nth-child(odd) > label,\n.xr-var-list > li:nth-child(odd) > .xr-var-name span {\n  background-color: var(--xr-background-color-row-odd);\n}\n\n.xr-var-name {\n  grid-column: 1;\n}\n\n.xr-var-dims {\n  grid-column: 2;\n}\n\n.xr-var-dtype {\n  grid-column: 3;\n  text-align: right;\n  color: var(--xr-font-color2);\n}\n\n.xr-var-preview {\n  grid-column: 4;\n}\n\n.xr-index-preview {\n  grid-column: 2 / 5;\n  color: var(--xr-font-color2);\n}\n\n.xr-var-name,\n.xr-var-dims,\n.xr-var-dtype,\n.xr-preview,\n.xr-attrs dt {\n  white-space: nowrap;\n  overflow: hidden;\n  text-overflow: ellipsis;\n  padding-right: 10px;\n}\n\n.xr-var-name:hover,\n.xr-var-dims:hover,\n.xr-var-dtype:hover,\n.xr-attrs dt:hover {\n  overflow: visible;\n  width: auto;\n  z-index: 1;\n}\n\n.xr-var-attrs,\n.xr-var-data,\n.xr-index-data {\n  display: none;\n  background-color: var(--xr-background-color) !important;\n  padding-bottom: 5px !important;\n}\n\n.xr-var-attrs-in:checked ~ .xr-var-attrs,\n.xr-var-data-in:checked ~ .xr-var-data,\n.xr-index-data-in:checked ~ .xr-index-data {\n  display: block;\n}\n\n.xr-var-data > table {\n  float: right;\n}\n\n.xr-var-name span,\n.xr-var-data,\n.xr-index-name div,\n.xr-index-data,\n.xr-attrs {\n  padding-left: 25px !important;\n}\n\n.xr-attrs,\n.xr-var-attrs,\n.xr-var-data,\n.xr-index-data {\n  grid-column: 1 / -1;\n}\n\ndl.xr-attrs {\n  padding: 0;\n  margin: 0;\n  display: grid;\n  grid-template-columns: 125px auto;\n}\n\n.xr-attrs dt,\n.xr-attrs dd {\n  padding: 0;\n  margin: 0;\n  float: left;\n  padding-right: 10px;\n  width: auto;\n}\n\n.xr-attrs dt {\n  font-weight: normal;\n  grid-column: 1;\n}\n\n.xr-attrs dt:hover span {\n  display: inline-block;\n  background: var(--xr-background-color);\n  padding-right: 10px;\n}\n\n.xr-attrs dd {\n  grid-column: 2;\n  white-space: pre-wrap;\n  word-break: break-all;\n}\n\n.xr-icon-database,\n.xr-icon-file-text2,\n.xr-no-icon {\n  display: inline-block;\n  vertical-align: middle;\n  width: 1em;\n  height: 1.5em !important;\n  stroke-width: 0;\n  stroke: currentColor;\n  fill: currentColor;\n}\n</style><pre class='xr-text-repr-fallback'>&lt;xarray.DataArray &#x27;tp&#x27; (time: 8760, latitude: 89, longitude: 61)&gt;\ndask.array&lt;open_dataset-tp, shape=(8760, 89, 61), dtype=float32, chunksize=(8760, 89, 61), chunktype=numpy.ndarray&gt;\nCoordinates:\n  * longitude    (longitude) float32 165.0 165.2 165.5 ... 179.5 179.8 180.0\n  * latitude     (latitude) float32 -31.0 -31.25 -31.5 ... -52.5 -52.75 -53.0\n  * time         (time) datetime64[ns] 2022-01-01 ... 2022-12-31T23:00:00\n    spatial_ref  int32 0\nAttributes:\n    units:       m\n    long_name:   Total precipitation\n    category:    meteo\n    history:     Extracted from ERA5 daily data on pressure levels\n    source_url:  https://cds.climate.copernicus.eu/cdsapp#!/dataset/reanalysi...</pre><div class='xr-wrap' style='display:none'><div class='xr-header'><div class='xr-obj-type'>xarray.DataArray</div><div class='xr-array-name'>'tp'</div><ul class='xr-dim-list'><li><span class='xr-has-index'>time</span>: 8760</li><li><span class='xr-has-index'>latitude</span>: 89</li><li><span class='xr-has-index'>longitude</span>: 61</li></ul></div><ul class='xr-sections'><li class='xr-section-item'><div class='xr-array-wrap'><input id='section-a402951b-0696-413a-b9c9-80b7be216494' class='xr-array-in' type='checkbox' checked><label for='section-a402951b-0696-413a-b9c9-80b7be216494' title='Show/hide data repr'><svg class='icon xr-icon-database'><use xlink:href='#icon-database'></use></svg></label><div class='xr-array-preview xr-preview'><span>dask.array&lt;chunksize=(8760, 89, 61), meta=np.ndarray&gt;</span></div><div class='xr-array-data'><table>\n    <tr>\n        <td>\n            <table style=\"border-collapse: collapse;\">\n                <thead>\n                    <tr>\n                        <td> </td>\n                        <th> Array </th>\n                        <th> Chunk </th>\n                    </tr>\n                </thead>\n                <tbody>\n                    \n                    <tr>\n                        <th> Bytes </th>\n                        <td> 181.42 MiB </td>\n                        <td> 181.42 MiB </td>\n                    </tr>\n                    \n                    <tr>\n                        <th> Shape </th>\n                        <td> (8760, 89, 61) </td>\n                        <td> (8760, 89, 61) </td>\n                    </tr>\n                    <tr>\n                        <th> Dask graph </th>\n                        <td colspan=\"2\"> 1 chunks in 2 graph layers </td>\n                    </tr>\n                    <tr>\n                        <th> Data type </th>\n                        <td colspan=\"2\"> float32 numpy.ndarray </td>\n                    </tr>\n                </tbody>\n            </table>\n        </td>\n        <td>\n        <svg width=\"156\" height=\"146\" style=\"stroke:rgb(0,0,0);stroke-width:1\" >\n\n  <!-- Horizontal lines -->\n  <line x1=\"10\" y1=\"0\" x2=\"80\" y2=\"70\" style=\"stroke-width:2\" />\n  <line x1=\"10\" y1=\"25\" x2=\"80\" y2=\"96\" style=\"stroke-width:2\" />\n\n  <!-- Vertical lines -->\n  <line x1=\"10\" y1=\"0\" x2=\"10\" y2=\"25\" style=\"stroke-width:2\" />\n  <line x1=\"80\" y1=\"70\" x2=\"80\" y2=\"96\" style=\"stroke-width:2\" />\n\n  <!-- Colored Rectangle -->\n  <polygon points=\"10.0,0.0 80.58823529411765,70.58823529411765 80.58823529411765,96.07692720809732 10.0,25.488691913979657\" style=\"fill:#ECB172A0;stroke-width:0\"/>\n\n  <!-- Horizontal lines -->\n  <line x1=\"10\" y1=\"0\" x2=\"35\" y2=\"0\" style=\"stroke-width:2\" />\n  <line x1=\"80\" y1=\"70\" x2=\"106\" y2=\"70\" style=\"stroke-width:2\" />\n\n  <!-- Vertical lines -->\n  <line x1=\"10\" y1=\"0\" x2=\"80\" y2=\"70\" style=\"stroke-width:2\" />\n  <line x1=\"35\" y1=\"0\" x2=\"106\" y2=\"70\" style=\"stroke-width:2\" />\n\n  <!-- Colored Rectangle -->\n  <polygon points=\"10.0,0.0 35.41261651458248,0.0 106.00085180870013,70.58823529411765 80.58823529411765,70.58823529411765\" style=\"fill:#ECB172A0;stroke-width:0\"/>\n\n  <!-- Horizontal lines -->\n  <line x1=\"80\" y1=\"70\" x2=\"106\" y2=\"70\" style=\"stroke-width:2\" />\n  <line x1=\"80\" y1=\"96\" x2=\"106\" y2=\"96\" style=\"stroke-width:2\" />\n\n  <!-- Vertical lines -->\n  <line x1=\"80\" y1=\"70\" x2=\"80\" y2=\"96\" style=\"stroke-width:2\" />\n  <line x1=\"106\" y1=\"70\" x2=\"106\" y2=\"96\" style=\"stroke-width:2\" />\n\n  <!-- Colored Rectangle -->\n  <polygon points=\"80.58823529411765,70.58823529411765 106.00085180870013,70.58823529411765 106.00085180870013,96.07692720809732 80.58823529411765,96.07692720809732\" style=\"fill:#ECB172A0;stroke-width:0\"/>\n\n  <!-- Text -->\n  <text x=\"93.294544\" y=\"116.076927\" font-size=\"1.0rem\" font-weight=\"100\" text-anchor=\"middle\" >61</text>\n  <text x=\"126.000852\" y=\"83.332581\" font-size=\"1.0rem\" font-weight=\"100\" text-anchor=\"middle\" transform=\"rotate(0,126.000852,83.332581)\">89</text>\n  <text x=\"35.294118\" y=\"80.782810\" font-size=\"1.0rem\" font-weight=\"100\" text-anchor=\"middle\" transform=\"rotate(45,35.294118,80.782810)\">8760</text>\n</svg>\n        </td>\n    </tr>\n</table></div></div></li><li class='xr-section-item'><input id='section-5e26d8ff-d264-43e6-9c8d-93b85cb80126' class='xr-section-summary-in' type='checkbox'  checked><label for='section-5e26d8ff-d264-43e6-9c8d-93b85cb80126' class='xr-section-summary' >Coordinates: <span>(4)</span></label><div class='xr-section-inline-details'></div><div class='xr-section-details'><ul class='xr-var-list'><li class='xr-var-item'><div class='xr-var-name'><span class='xr-has-index'>longitude</span></div><div class='xr-var-dims'>(longitude)</div><div class='xr-var-dtype'>float32</div><div class='xr-var-preview xr-preview'>165.0 165.2 165.5 ... 179.8 180.0</div><input id='attrs-e55cf0fb-20be-4bc2-854b-993386e0d7db' class='xr-var-attrs-in' type='checkbox' ><label for='attrs-e55cf0fb-20be-4bc2-854b-993386e0d7db' title='Show/Hide attributes'><svg class='icon xr-icon-file-text2'><use xlink:href='#icon-file-text2'></use></svg></label><input id='data-c4716102-2d63-466e-90eb-1889bc6d0ffd' class='xr-var-data-in' type='checkbox'><label for='data-c4716102-2d63-466e-90eb-1889bc6d0ffd' title='Show/Hide data repr'><svg class='icon xr-icon-database'><use xlink:href='#icon-database'></use></svg></label><div class='xr-var-attrs'><dl class='xr-attrs'><dt><span>units :</span></dt><dd>degrees_east</dd><dt><span>long_name :</span></dt><dd>longitude</dd></dl></div><div class='xr-var-data'><pre>array([165.  , 165.25, 165.5 , 165.75, 166.  , 166.25, 166.5 , 166.75, 167.  ,\n       167.25, 167.5 , 167.75, 168.  , 168.25, 168.5 , 168.75, 169.  , 169.25,\n       169.5 , 169.75, 170.  , 170.25, 170.5 , 170.75, 171.  , 171.25, 171.5 ,\n       171.75, 172.  , 172.25, 172.5 , 172.75, 173.  , 173.25, 173.5 , 173.75,\n       174.  , 174.25, 174.5 , 174.75, 175.  , 175.25, 175.5 , 175.75, 176.  ,\n       176.25, 176.5 , 176.75, 177.  , 177.25, 177.5 , 177.75, 178.  , 178.25,\n       178.5 , 178.75, 179.  , 179.25, 179.5 , 179.75, 180.  ], dtype=float32)</pre></div></li><li class='xr-var-item'><div class='xr-var-name'><span class='xr-has-index'>latitude</span></div><div class='xr-var-dims'>(latitude)</div><div class='xr-var-dtype'>float32</div><div class='xr-var-preview xr-preview'>-31.0 -31.25 -31.5 ... -52.75 -53.0</div><input id='attrs-f0b70ae0-9a65-4479-a2a7-e079422f3c20' class='xr-var-attrs-in' type='checkbox' ><label for='attrs-f0b70ae0-9a65-4479-a2a7-e079422f3c20' title='Show/Hide attributes'><svg class='icon xr-icon-file-text2'><use xlink:href='#icon-file-text2'></use></svg></label><input id='data-03ec51f8-a15b-4b21-8278-e803fe7fe96b' class='xr-var-data-in' type='checkbox'><label for='data-03ec51f8-a15b-4b21-8278-e803fe7fe96b' title='Show/Hide data repr'><svg class='icon xr-icon-database'><use xlink:href='#icon-database'></use></svg></label><div class='xr-var-attrs'><dl class='xr-attrs'><dt><span>units :</span></dt><dd>degrees_north</dd><dt><span>long_name :</span></dt><dd>latitude</dd></dl></div><div class='xr-var-data'><pre>array([-31.  , -31.25, -31.5 , -31.75, -32.  , -32.25, -32.5 , -32.75, -33.  ,\n       -33.25, -33.5 , -33.75, -34.  , -34.25, -34.5 , -34.75, -35.  , -35.25,\n       -35.5 , -35.75, -36.  , -36.25, -36.5 , -36.75, -37.  , -37.25, -37.5 ,\n       -37.75, -38.  , -38.25, -38.5 , -38.75, -39.  , -39.25, -39.5 , -39.75,\n       -40.  , -40.25, -40.5 , -40.75, -41.  , -41.25, -41.5 , -41.75, -42.  ,\n       -42.25, -42.5 , -42.75, -43.  , -43.25, -43.5 , -43.75, -44.  , -44.25,\n       -44.5 , -44.75, -45.  , -45.25, -45.5 , -45.75, -46.  , -46.25, -46.5 ,\n       -46.75, -47.  , -47.25, -47.5 , -47.75, -48.  , -48.25, -48.5 , -48.75,\n       -49.  , -49.25, -49.5 , -49.75, -50.  , -50.25, -50.5 , -50.75, -51.  ,\n       -51.25, -51.5 , -51.75, -52.  , -52.25, -52.5 , -52.75, -53.  ],\n      dtype=float32)</pre></div></li><li class='xr-var-item'><div class='xr-var-name'><span class='xr-has-index'>time</span></div><div class='xr-var-dims'>(time)</div><div class='xr-var-dtype'>datetime64[ns]</div><div class='xr-var-preview xr-preview'>2022-01-01 ... 2022-12-31T23:00:00</div><input id='attrs-d5fd705a-366f-4c67-a8ce-80ebd88f8017' class='xr-var-attrs-in' type='checkbox' ><label for='attrs-d5fd705a-366f-4c67-a8ce-80ebd88f8017' title='Show/Hide attributes'><svg class='icon xr-icon-file-text2'><use xlink:href='#icon-file-text2'></use></svg></label><input id='data-97875382-290a-4f90-8f5c-127be9ea32cc' class='xr-var-data-in' type='checkbox'><label for='data-97875382-290a-4f90-8f5c-127be9ea32cc' title='Show/Hide data repr'><svg class='icon xr-icon-database'><use xlink:href='#icon-database'></use></svg></label><div class='xr-var-attrs'><dl class='xr-attrs'><dt><span>long_name :</span></dt><dd>time</dd></dl></div><div class='xr-var-data'><pre>array([&#x27;2022-01-01T00:00:00.000000000&#x27;, &#x27;2022-01-01T01:00:00.000000000&#x27;,\n       &#x27;2022-01-01T02:00:00.000000000&#x27;, ..., &#x27;2022-12-31T21:00:00.000000000&#x27;,\n       &#x27;2022-12-31T22:00:00.000000000&#x27;, &#x27;2022-12-31T23:00:00.000000000&#x27;],\n      dtype=&#x27;datetime64[ns]&#x27;)</pre></div></li><li class='xr-var-item'><div class='xr-var-name'><span>spatial_ref</span></div><div class='xr-var-dims'>()</div><div class='xr-var-dtype'>int32</div><div class='xr-var-preview xr-preview'>0</div><input id='attrs-64830e0d-27d5-4b0c-9d33-317653b65a01' class='xr-var-attrs-in' type='checkbox' ><label for='attrs-64830e0d-27d5-4b0c-9d33-317653b65a01' title='Show/Hide attributes'><svg class='icon xr-icon-file-text2'><use xlink:href='#icon-file-text2'></use></svg></label><input id='data-2a8d8785-91a3-49c3-b4eb-32d33a6340e0' class='xr-var-data-in' type='checkbox'><label for='data-2a8d8785-91a3-49c3-b4eb-32d33a6340e0' title='Show/Hide data repr'><svg class='icon xr-icon-database'><use xlink:href='#icon-database'></use></svg></label><div class='xr-var-attrs'><dl class='xr-attrs'><dt><span>x_dim :</span></dt><dd>longitude</dd><dt><span>y_dim :</span></dt><dd>latitude</dd><dt><span>crs_wkt :</span></dt><dd>GEOGCRS[&quot;WGS 84&quot;,ENSEMBLE[&quot;World Geodetic System 1984 ensemble&quot;,MEMBER[&quot;World Geodetic System 1984 (Transit)&quot;],MEMBER[&quot;World Geodetic System 1984 (G730)&quot;],MEMBER[&quot;World Geodetic System 1984 (G873)&quot;],MEMBER[&quot;World Geodetic System 1984 (G1150)&quot;],MEMBER[&quot;World Geodetic System 1984 (G1674)&quot;],MEMBER[&quot;World Geodetic System 1984 (G1762)&quot;],MEMBER[&quot;World Geodetic System 1984 (G2139)&quot;],ELLIPSOID[&quot;WGS 84&quot;,6378137,298.257223563,LENGTHUNIT[&quot;metre&quot;,1]],ENSEMBLEACCURACY[2.0]],PRIMEM[&quot;Greenwich&quot;,0,ANGLEUNIT[&quot;degree&quot;,0.0174532925199433]],CS[ellipsoidal,2],AXIS[&quot;geodetic latitude (Lat)&quot;,north,ORDER[1],ANGLEUNIT[&quot;degree&quot;,0.0174532925199433]],AXIS[&quot;geodetic longitude (Lon)&quot;,east,ORDER[2],ANGLEUNIT[&quot;degree&quot;,0.0174532925199433]],USAGE[SCOPE[&quot;Horizontal component of 3D system.&quot;],AREA[&quot;World.&quot;],BBOX[-90,-180,90,180]],ID[&quot;EPSG&quot;,4326]]</dd><dt><span>semi_major_axis :</span></dt><dd>6378137.0</dd><dt><span>semi_minor_axis :</span></dt><dd>6356752.314245179</dd><dt><span>inverse_flattening :</span></dt><dd>298.257223563</dd><dt><span>reference_ellipsoid_name :</span></dt><dd>WGS 84</dd><dt><span>longitude_of_prime_meridian :</span></dt><dd>0.0</dd><dt><span>prime_meridian_name :</span></dt><dd>Greenwich</dd><dt><span>geographic_crs_name :</span></dt><dd>WGS 84</dd><dt><span>horizontal_datum_name :</span></dt><dd>World Geodetic System 1984 ensemble</dd><dt><span>grid_mapping_name :</span></dt><dd>latitude_longitude</dd><dt><span>spatial_ref :</span></dt><dd>GEOGCRS[&quot;WGS 84&quot;,ENSEMBLE[&quot;World Geodetic System 1984 ensemble&quot;,MEMBER[&quot;World Geodetic System 1984 (Transit)&quot;],MEMBER[&quot;World Geodetic System 1984 (G730)&quot;],MEMBER[&quot;World Geodetic System 1984 (G873)&quot;],MEMBER[&quot;World Geodetic System 1984 (G1150)&quot;],MEMBER[&quot;World Geodetic System 1984 (G1674)&quot;],MEMBER[&quot;World Geodetic System 1984 (G1762)&quot;],MEMBER[&quot;World Geodetic System 1984 (G2139)&quot;],ELLIPSOID[&quot;WGS 84&quot;,6378137,298.257223563,LENGTHUNIT[&quot;metre&quot;,1]],ENSEMBLEACCURACY[2.0]],PRIMEM[&quot;Greenwich&quot;,0,ANGLEUNIT[&quot;degree&quot;,0.0174532925199433]],CS[ellipsoidal,2],AXIS[&quot;geodetic latitude (Lat)&quot;,north,ORDER[1],ANGLEUNIT[&quot;degree&quot;,0.0174532925199433]],AXIS[&quot;geodetic longitude (Lon)&quot;,east,ORDER[2],ANGLEUNIT[&quot;degree&quot;,0.0174532925199433]],USAGE[SCOPE[&quot;Horizontal component of 3D system.&quot;],AREA[&quot;World.&quot;],BBOX[-90,-180,90,180]],ID[&quot;EPSG&quot;,4326]]</dd></dl></div><div class='xr-var-data'><pre>array(0)</pre></div></li></ul></div></li><li class='xr-section-item'><input id='section-51e5a072-0df9-481e-bbaf-fd0745401628' class='xr-section-summary-in' type='checkbox'  ><label for='section-51e5a072-0df9-481e-bbaf-fd0745401628' class='xr-section-summary' >Indexes: <span>(3)</span></label><div class='xr-section-inline-details'></div><div class='xr-section-details'><ul class='xr-var-list'><li class='xr-var-item'><div class='xr-index-name'><div>longitude</div></div><div class='xr-index-preview'>PandasIndex</div><div></div><input id='index-65ae9360-abe6-4448-8e5b-890224f3fb52' class='xr-index-data-in' type='checkbox'/><label for='index-65ae9360-abe6-4448-8e5b-890224f3fb52' title='Show/Hide index repr'><svg class='icon xr-icon-database'><use xlink:href='#icon-database'></use></svg></label><div class='xr-index-data'><pre>PandasIndex(Index([ 165.0, 165.25,  165.5, 165.75,  166.0, 166.25,  166.5, 166.75,  167.0,\n       167.25,  167.5, 167.75,  168.0, 168.25,  168.5, 168.75,  169.0, 169.25,\n        169.5, 169.75,  170.0, 170.25,  170.5, 170.75,  171.0, 171.25,  171.5,\n       171.75,  172.0, 172.25,  172.5, 172.75,  173.0, 173.25,  173.5, 173.75,\n        174.0, 174.25,  174.5, 174.75,  175.0, 175.25,  175.5, 175.75,  176.0,\n       176.25,  176.5, 176.75,  177.0, 177.25,  177.5, 177.75,  178.0, 178.25,\n        178.5, 178.75,  179.0, 179.25,  179.5, 179.75,  180.0],\n      dtype=&#x27;float32&#x27;, name=&#x27;longitude&#x27;))</pre></div></li><li class='xr-var-item'><div class='xr-index-name'><div>latitude</div></div><div class='xr-index-preview'>PandasIndex</div><div></div><input id='index-f0c7be22-c86e-469d-b38c-4747425cc4d4' class='xr-index-data-in' type='checkbox'/><label for='index-f0c7be22-c86e-469d-b38c-4747425cc4d4' title='Show/Hide index repr'><svg class='icon xr-icon-database'><use xlink:href='#icon-database'></use></svg></label><div class='xr-index-data'><pre>PandasIndex(Index([ -31.0, -31.25,  -31.5, -31.75,  -32.0, -32.25,  -32.5, -32.75,  -33.0,\n       -33.25,  -33.5, -33.75,  -34.0, -34.25,  -34.5, -34.75,  -35.0, -35.25,\n        -35.5, -35.75,  -36.0, -36.25,  -36.5, -36.75,  -37.0, -37.25,  -37.5,\n       -37.75,  -38.0, -38.25,  -38.5, -38.75,  -39.0, -39.25,  -39.5, -39.75,\n        -40.0, -40.25,  -40.5, -40.75,  -41.0, -41.25,  -41.5, -41.75,  -42.0,\n       -42.25,  -42.5, -42.75,  -43.0, -43.25,  -43.5, -43.75,  -44.0, -44.25,\n        -44.5, -44.75,  -45.0, -45.25,  -45.5, -45.75,  -46.0, -46.25,  -46.5,\n       -46.75,  -47.0, -47.25,  -47.5, -47.75,  -48.0, -48.25,  -48.5, -48.75,\n        -49.0, -49.25,  -49.5, -49.75,  -50.0, -50.25,  -50.5, -50.75,  -51.0,\n       -51.25,  -51.5, -51.75,  -52.0, -52.25,  -52.5, -52.75,  -53.0],\n      dtype=&#x27;float32&#x27;, name=&#x27;latitude&#x27;))</pre></div></li><li class='xr-var-item'><div class='xr-index-name'><div>time</div></div><div class='xr-index-preview'>PandasIndex</div><div></div><input id='index-7ef924b9-7e4f-4457-b7e7-9c6760628f0b' class='xr-index-data-in' type='checkbox'/><label for='index-7ef924b9-7e4f-4457-b7e7-9c6760628f0b' title='Show/Hide index repr'><svg class='icon xr-icon-database'><use xlink:href='#icon-database'></use></svg></label><div class='xr-index-data'><pre>PandasIndex(DatetimeIndex([&#x27;2022-01-01 00:00:00&#x27;, &#x27;2022-01-01 01:00:00&#x27;,\n               &#x27;2022-01-01 02:00:00&#x27;, &#x27;2022-01-01 03:00:00&#x27;,\n               &#x27;2022-01-01 04:00:00&#x27;, &#x27;2022-01-01 05:00:00&#x27;,\n               &#x27;2022-01-01 06:00:00&#x27;, &#x27;2022-01-01 07:00:00&#x27;,\n               &#x27;2022-01-01 08:00:00&#x27;, &#x27;2022-01-01 09:00:00&#x27;,\n               ...\n               &#x27;2022-12-31 14:00:00&#x27;, &#x27;2022-12-31 15:00:00&#x27;,\n               &#x27;2022-12-31 16:00:00&#x27;, &#x27;2022-12-31 17:00:00&#x27;,\n               &#x27;2022-12-31 18:00:00&#x27;, &#x27;2022-12-31 19:00:00&#x27;,\n               &#x27;2022-12-31 20:00:00&#x27;, &#x27;2022-12-31 21:00:00&#x27;,\n               &#x27;2022-12-31 22:00:00&#x27;, &#x27;2022-12-31 23:00:00&#x27;],\n              dtype=&#x27;datetime64[ns]&#x27;, name=&#x27;time&#x27;, length=8760, freq=None))</pre></div></li></ul></div></li><li class='xr-section-item'><input id='section-48e88fd8-cc5f-4b6f-aee5-4792f9009270' class='xr-section-summary-in' type='checkbox'  checked><label for='section-48e88fd8-cc5f-4b6f-aee5-4792f9009270' class='xr-section-summary' >Attributes: <span>(5)</span></label><div class='xr-section-inline-details'></div><div class='xr-section-details'><dl class='xr-attrs'><dt><span>units :</span></dt><dd>m</dd><dt><span>long_name :</span></dt><dd>Total precipitation</dd><dt><span>category :</span></dt><dd>meteo</dd><dt><span>history :</span></dt><dd>Extracted from ERA5 daily data on pressure levels</dd><dt><span>source_url :</span></dt><dd>https://cds.climate.copernicus.eu/cdsapp#!/dataset/reanalysis-era5-single-levels?tab=overview</dd></dl></div></li></ul></div></div>"
     },
     "execution_count": 17,
     "metadata": {},
     "output_type": "execute_result"
    }
   ],
   "source": [
    "data_catalog.from_yml(data_lib)  # add a yaml file to the data catalog\n",
    "print(data_catalog.sources.keys())\n",
    "ds = data_catalog.get_rasterdataset(\"era5\")\n",
    "ds"
   ],
   "metadata": {
    "collapsed": false,
    "ExecuteTime": {
     "end_time": "2023-06-16T15:56:01.110069600Z",
     "start_time": "2023-06-16T15:56:01.066549700Z"
    }
   }
  },
  {
   "cell_type": "markdown",
   "source": [
    "## Land cover"
   ],
   "metadata": {
    "collapsed": false
   }
  },
  {
   "cell_type": "code",
   "execution_count": 18,
   "outputs": [
    {
     "name": "stdout",
     "output_type": "stream",
     "text": [
      "CRS: GEOGCS[\"WGS 84\",DATUM[\"WGS_1984\",SPHEROID[\"WGS 84\",6378137,298.257223563,AUTHORITY[\"EPSG\",\"7030\"]],AUTHORITY[\"EPSG\",\"6326\"]],PRIMEM[\"Greenwich\",0,AUTHORITY[\"EPSG\",\"8901\"]],UNIT[\"degree\",0.0174532925199433,AUTHORITY[\"EPSG\",\"9122\"]],AXIS[\"Latitude\",NORTH],AXIS[\"Longitude\",EAST],AUTHORITY[\"EPSG\",\"4326\"]]\n"
     ]
    }
   ],
   "source": [
    "da = xr.open_dataarray(os.path.join(root, 'global_land_cover/PROBAV_LC100_global_v3.0.1_2019-nrt_Discrete-Classification-map_EPSG-4326.tif'))\n",
    "#pprint(da)\n",
    "print(f\"CRS: {da.raster.crs}\")\n"
   ],
   "metadata": {
    "collapsed": false,
    "ExecuteTime": {
     "end_time": "2023-06-16T15:56:01.183057200Z",
     "start_time": "2023-06-16T15:56:01.110069600Z"
    }
   }
  },
  {
   "cell_type": "code",
   "execution_count": 19,
   "outputs": [],
   "source": [
    "yml_str = f\"\"\"\n",
    "meta:\n",
    "  root: {root}\n",
    "\n",
    "vito:\n",
    "    path: global_land_cover/PROBAV_LC100_global_v3.0.1_2019-nrt_Discrete-Classification-map_EPSG-4326.tif\n",
    "    data_type: RasterDataset\n",
    "    crs: 4326\n",
    "    driver: raster\n",
    "    meta:\n",
    "        source_url: https://zenodo.org/record/3939050\n",
    "        category: landuse\n",
    "\n",
    "\"\"\"\n",
    "data_lib = \"xan_catalog/catalog/vito.yml\"\n",
    "with open(data_lib, mode=\"w\") as f:\n",
    "    f.write(yml_str)\n"
   ],
   "metadata": {
    "collapsed": false,
    "ExecuteTime": {
     "end_time": "2023-06-16T15:56:01.183889900Z",
     "start_time": "2023-06-16T15:56:01.139740800Z"
    }
   }
  },
  {
   "cell_type": "code",
   "execution_count": 20,
   "outputs": [
    {
     "name": "stdout",
     "output_type": "stream",
     "text": [
      "2023-06-16 17:56:01,159 - prepare data catalog - data_catalog - INFO - Parsing data catalog from xan_catalog/catalog/vito.yml\n",
      "dict_keys(['elevtn', 'bathymetry', 'extent', 'rivers_lin', 'era5', 'vito'])\n",
      "2023-06-16 17:56:01,163 - prepare data catalog - data_catalog - INFO - DataCatalog: Getting vito RasterDataset raster data from C:\\Users\\xfsmi\\PycharmProjects\\pythonProject\\SFINCS\\xan_catalog\\helensville_data\\global_land_cover\\PROBAV_LC100_global_v3.0.1_2019-nrt_Discrete-Classification-map_EPSG-4326.tif\n"
     ]
    }
   ],
   "source": [
    "data_catalog.from_yml(data_lib)  # add a yaml file to the data catalog\n",
    "print(data_catalog.sources.keys())\n",
    "da = data_catalog.get_rasterdataset(\"vito\")"
   ],
   "metadata": {
    "collapsed": false,
    "ExecuteTime": {
     "end_time": "2023-06-16T15:56:01.275386500Z",
     "start_time": "2023-06-16T15:56:01.171097300Z"
    }
   }
  },
  {
   "cell_type": "markdown",
   "source": [
    "## merit hydro"
   ],
   "metadata": {
    "collapsed": false
   }
  },
  {
   "cell_type": "code",
   "execution_count": 20,
   "outputs": [],
   "source": [],
   "metadata": {
    "collapsed": false,
    "ExecuteTime": {
     "end_time": "2023-06-16T15:56:01.283481800Z",
     "start_time": "2023-06-16T15:56:01.251275700Z"
    }
   }
  },
  {
   "cell_type": "code",
   "execution_count": 21,
   "outputs": [],
   "source": [
    "yml_str = f\"\"\"\n",
    "meta:\n",
    "  root: {root}\n",
    "\n",
    "merit_hydro:\n",
    "  data_type: RasterDataset\n",
    "  driver: raster\n",
    "  crs: 4326\n",
    "  meta:\n",
    "    category: topography\n",
    "  rename:\n",
    "    s40e170_hnd: height_above_nearest_drain\n",
    "    flwdir: flow_direction\n",
    "    uparea: upstream_area\n",
    "    upgrid: upstream_grid\n",
    "    rivwth: river_width\n",
    "\n",
    "  path: merit_hydro/*.tif\n",
    "\"\"\"\n",
    "# overwrite data catalog\n",
    "data_lib = \"xan_catalog/catalog/merit_hydro.yml\"\n",
    "with open(data_lib, mode=\"w\") as f:\n",
    "    f.write(yml_str)"
   ],
   "metadata": {
    "collapsed": false,
    "ExecuteTime": {
     "end_time": "2023-06-16T15:56:01.283481800Z",
     "start_time": "2023-06-16T15:56:01.275386500Z"
    }
   }
  },
  {
   "cell_type": "code",
   "execution_count": 22,
   "outputs": [
    {
     "name": "stdout",
     "output_type": "stream",
     "text": [
      "2023-06-16 17:56:01,276 - prepare data catalog - data_catalog - INFO - Parsing data catalog from xan_catalog/catalog/merit_hydro.yml\n",
      "dict_keys(['elevtn', 'bathymetry', 'extent', 'rivers_lin', 'era5', 'vito', 'merit_hydro'])\n",
      "2023-06-16 17:56:01,283 - prepare data catalog - data_catalog - INFO - DataCatalog: Getting merit_hydro RasterDataset raster data from C:\\Users\\xfsmi\\PycharmProjects\\pythonProject\\SFINCS\\xan_catalog\\helensville_data\\merit_hydro\\*.tif\n"
     ]
    },
    {
     "name": "stderr",
     "output_type": "stream",
     "text": [
      "nodata value missing for C:/Users/xfsmi/PycharmProjects/pythonProject/SFINCS/xan_catalog/helensville_data/merit_hydro/flwdir.tif\n"
     ]
    }
   ],
   "source": [
    "data_catalog.from_yml(data_lib)  # add a yaml file to the data catalog\n",
    "print(data_catalog.sources.keys())\n",
    "ds = data_catalog.get_rasterdataset(\"merit_hydro\")"
   ],
   "metadata": {
    "collapsed": false,
    "ExecuteTime": {
     "end_time": "2023-06-16T15:56:01.423790Z",
     "start_time": "2023-06-16T15:56:01.276646200Z"
    }
   }
  },
  {
   "cell_type": "markdown",
   "source": [
    "## Global Curve Number (GCN) infiltration dataset"
   ],
   "metadata": {
    "collapsed": false
   }
  },
  {
   "cell_type": "code",
   "execution_count": 23,
   "outputs": [
    {
     "name": "stdout",
     "output_type": "stream",
     "text": [
      "CRS: GEOGCS[\"WGS 84\",DATUM[\"WGS_1984\",SPHEROID[\"WGS 84\",6378137,298.257223563,AUTHORITY[\"EPSG\",\"7030\"]],AUTHORITY[\"EPSG\",\"6326\"]],PRIMEM[\"Greenwich\",0,AUTHORITY[\"EPSG\",\"8901\"]],UNIT[\"degree\",0.0174532925199433,AUTHORITY[\"EPSG\",\"9122\"]],AXIS[\"Latitude\",NORTH],AXIS[\"Longitude\",EAST],AUTHORITY[\"EPSG\",\"4326\"]]\n"
     ]
    }
   ],
   "source": [
    "da = xr.open_dataarray(os.path.join(root, 'GCN250_ARCII/GCN250_ARCII.tif'))\n",
    "#pprint(da)\n",
    "print(f\"CRS: {da.raster.crs}\")"
   ],
   "metadata": {
    "collapsed": false,
    "ExecuteTime": {
     "end_time": "2023-06-16T15:56:01.503286200Z",
     "start_time": "2023-06-16T15:56:01.423790Z"
    }
   }
  },
  {
   "cell_type": "code",
   "execution_count": 24,
   "outputs": [],
   "source": [
    "yml_str = f\"\"\"\n",
    "meta:\n",
    "  root: {root}\n",
    "\n",
    "gcn250:\n",
    "    path: GCN250_ARCII/GCN250_ARCII.tif\n",
    "    data_type: RasterDataset\n",
    "    driver: raster\n",
    "    crs: 4326\n",
    "    meta:\n",
    "        source_license: CC BY 4.0\n",
    "        source_url: https://doi.org/10.6084/m9.figshare.7756202.v1\n",
    "        category: infiltration\n",
    "\n",
    "\"\"\"\n",
    "data_lib = \"xan_catalog/catalog/gcn250.yml\"\n",
    "with open(data_lib, mode=\"w\") as f:\n",
    "    f.write(yml_str)\n"
   ],
   "metadata": {
    "collapsed": false,
    "ExecuteTime": {
     "end_time": "2023-06-16T15:56:01.504013400Z",
     "start_time": "2023-06-16T15:56:01.455463500Z"
    }
   }
  },
  {
   "cell_type": "code",
   "execution_count": 25,
   "outputs": [
    {
     "name": "stdout",
     "output_type": "stream",
     "text": [
      "2023-06-16 17:56:01,471 - prepare data catalog - data_catalog - INFO - Parsing data catalog from xan_catalog/catalog/gcn250.yml\n",
      "dict_keys(['elevtn', 'bathymetry', 'extent', 'rivers_lin', 'era5', 'vito', 'merit_hydro', 'gcn250'])\n",
      "2023-06-16 17:56:01,478 - prepare data catalog - data_catalog - INFO - DataCatalog: Getting gcn250 RasterDataset raster data from C:\\Users\\xfsmi\\PycharmProjects\\pythonProject\\SFINCS\\xan_catalog\\helensville_data\\GCN250_ARCII\\GCN250_ARCII.tif\n"
     ]
    }
   ],
   "source": [
    "data_catalog.from_yml(data_lib)  # add a yaml file to the data catalog\n",
    "print(data_catalog.sources.keys())\n",
    "ds = data_catalog.get_rasterdataset(\"gcn250\")\n"
   ],
   "metadata": {
    "collapsed": false,
    "ExecuteTime": {
     "end_time": "2023-06-16T15:56:01.582919100Z",
     "start_time": "2023-06-16T15:56:01.475952500Z"
    }
   }
  },
  {
   "cell_type": "code",
   "execution_count": 26,
   "outputs": [
    {
     "data": {
      "text/plain": "                                                          path      data_type  \\\nelevtn       C:\\Users\\xfsmi\\PycharmProjects\\pythonProject\\S...  RasterDataset   \nbathymetry   C:\\Users\\xfsmi\\PycharmProjects\\pythonProject\\S...  RasterDataset   \nextent       C:\\Users\\xfsmi\\PycharmProjects\\pythonProject\\S...  RasterDataset   \nrivers_lin   C:\\Users\\xfsmi\\PycharmProjects\\pythonProject\\S...   GeoDataFrame   \nera5         C:\\Users\\xfsmi\\PycharmProjects\\pythonProject\\S...  RasterDataset   \nvito         C:\\Users\\xfsmi\\PycharmProjects\\pythonProject\\S...  RasterDataset   \nmerit_hydro  C:\\Users\\xfsmi\\PycharmProjects\\pythonProject\\S...  RasterDataset   \ngcn250       C:\\Users\\xfsmi\\PycharmProjects\\pythonProject\\S...  RasterDataset   \n\n             driver      category  \\\nelevtn       raster     elevation   \nbathymetry   raster    bathymetry   \nextent       raster  water extent   \nrivers_lin   vector   hydrography   \nera5         netcdf         meteo   \nvito         raster       landuse   \nmerit_hydro  raster    topography   \ngcn250       raster  infiltration   \n\n                                                    source_url  \\\nelevtn                                                     NaN   \nbathymetry   https://data-niwa.opendata.arcgis.com/datasets...   \nextent                                                     NaN   \nrivers_lin      https://zenodo.org/record/3552776#.YVbOrppByUk   \nera5         https://cds.climate.copernicus.eu/cdsapp#!/dat...   \nvito                         https://zenodo.org/record/3939050   \nmerit_hydro                                                NaN   \ngcn250          https://doi.org/10.6084/m9.figshare.7756202.v1   \n\n                                                       history source_license  \nelevtn                                                     NaN            NaN  \nbathymetry                                                 NaN            NaN  \nextent                                                     NaN            NaN  \nrivers_lin                                                 NaN            NaN  \nera5         Extracted from ERA5 daily data on pressure levels            NaN  \nvito                                                       NaN            NaN  \nmerit_hydro                                                NaN            NaN  \ngcn250                                                     NaN      CC BY 4.0  ",
      "text/html": "<div>\n<style scoped>\n    .dataframe tbody tr th:only-of-type {\n        vertical-align: middle;\n    }\n\n    .dataframe tbody tr th {\n        vertical-align: top;\n    }\n\n    .dataframe thead th {\n        text-align: right;\n    }\n</style>\n<table border=\"1\" class=\"dataframe\">\n  <thead>\n    <tr style=\"text-align: right;\">\n      <th></th>\n      <th>path</th>\n      <th>data_type</th>\n      <th>driver</th>\n      <th>category</th>\n      <th>source_url</th>\n      <th>history</th>\n      <th>source_license</th>\n    </tr>\n  </thead>\n  <tbody>\n    <tr>\n      <th>elevtn</th>\n      <td>C:\\Users\\xfsmi\\PycharmProjects\\pythonProject\\S...</td>\n      <td>RasterDataset</td>\n      <td>raster</td>\n      <td>elevation</td>\n      <td>NaN</td>\n      <td>NaN</td>\n      <td>NaN</td>\n    </tr>\n    <tr>\n      <th>bathymetry</th>\n      <td>C:\\Users\\xfsmi\\PycharmProjects\\pythonProject\\S...</td>\n      <td>RasterDataset</td>\n      <td>raster</td>\n      <td>bathymetry</td>\n      <td>https://data-niwa.opendata.arcgis.com/datasets...</td>\n      <td>NaN</td>\n      <td>NaN</td>\n    </tr>\n    <tr>\n      <th>extent</th>\n      <td>C:\\Users\\xfsmi\\PycharmProjects\\pythonProject\\S...</td>\n      <td>RasterDataset</td>\n      <td>raster</td>\n      <td>water extent</td>\n      <td>NaN</td>\n      <td>NaN</td>\n      <td>NaN</td>\n    </tr>\n    <tr>\n      <th>rivers_lin</th>\n      <td>C:\\Users\\xfsmi\\PycharmProjects\\pythonProject\\S...</td>\n      <td>GeoDataFrame</td>\n      <td>vector</td>\n      <td>hydrography</td>\n      <td>https://zenodo.org/record/3552776#.YVbOrppByUk</td>\n      <td>NaN</td>\n      <td>NaN</td>\n    </tr>\n    <tr>\n      <th>era5</th>\n      <td>C:\\Users\\xfsmi\\PycharmProjects\\pythonProject\\S...</td>\n      <td>RasterDataset</td>\n      <td>netcdf</td>\n      <td>meteo</td>\n      <td>https://cds.climate.copernicus.eu/cdsapp#!/dat...</td>\n      <td>Extracted from ERA5 daily data on pressure levels</td>\n      <td>NaN</td>\n    </tr>\n    <tr>\n      <th>vito</th>\n      <td>C:\\Users\\xfsmi\\PycharmProjects\\pythonProject\\S...</td>\n      <td>RasterDataset</td>\n      <td>raster</td>\n      <td>landuse</td>\n      <td>https://zenodo.org/record/3939050</td>\n      <td>NaN</td>\n      <td>NaN</td>\n    </tr>\n    <tr>\n      <th>merit_hydro</th>\n      <td>C:\\Users\\xfsmi\\PycharmProjects\\pythonProject\\S...</td>\n      <td>RasterDataset</td>\n      <td>raster</td>\n      <td>topography</td>\n      <td>NaN</td>\n      <td>NaN</td>\n      <td>NaN</td>\n    </tr>\n    <tr>\n      <th>gcn250</th>\n      <td>C:\\Users\\xfsmi\\PycharmProjects\\pythonProject\\S...</td>\n      <td>RasterDataset</td>\n      <td>raster</td>\n      <td>infiltration</td>\n      <td>https://doi.org/10.6084/m9.figshare.7756202.v1</td>\n      <td>NaN</td>\n      <td>CC BY 4.0</td>\n    </tr>\n  </tbody>\n</table>\n</div>"
     },
     "execution_count": 26,
     "metadata": {},
     "output_type": "execute_result"
    }
   ],
   "source": [
    "data_catalog"
   ],
   "metadata": {
    "collapsed": false,
    "ExecuteTime": {
     "end_time": "2023-06-16T15:56:01.614271400Z",
     "start_time": "2023-06-16T15:56:01.536169400Z"
    }
   }
  },
  {
   "cell_type": "code",
   "execution_count": 26,
   "outputs": [],
   "source": [],
   "metadata": {
    "collapsed": false,
    "ExecuteTime": {
     "end_time": "2023-06-16T15:56:01.615321600Z",
     "start_time": "2023-06-16T15:56:01.556082800Z"
    }
   }
  }
 ],
 "metadata": {
  "kernelspec": {
   "display_name": "Python 3",
   "language": "python",
   "name": "python3"
  },
  "language_info": {
   "codemirror_mode": {
    "name": "ipython",
    "version": 2
   },
   "file_extension": ".py",
   "mimetype": "text/x-python",
   "name": "python",
   "nbconvert_exporter": "python",
   "pygments_lexer": "ipython2",
   "version": "2.7.6"
  }
 },
 "nbformat": 4,
 "nbformat_minor": 0
}
